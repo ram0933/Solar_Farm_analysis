{
 "cells": [
  {
   "cell_type": "code",
   "execution_count": 1,
   "id": "841d9def",
   "metadata": {},
   "outputs": [],
   "source": [
    "#importing all the necessary libraries\n",
    "import pandas as pd\n",
    "import numpy as np\n",
    "import matplotlib.pyplot as plt\n",
    "import seaborn as sns"
   ]
  },
  {
   "cell_type": "code",
   "execution_count": 3,
   "id": "af9bb7ce",
   "metadata": {},
   "outputs": [],
   "source": [
    "#reading the 3 data files\n",
    "\n",
    "togo_df = pd.read_csv (r\"C:\\Users\\Ramlla\\Desktop\\Solar farm analysis\\data\\togo-dapaong_qc.csv\")\n",
    "benin_df =pd.read_csv(r\"C:\\Users\\Ramlla\\Desktop\\Solar farm analysis\\data\\benin-malanville.csv\")\n",
    "sierra_df =pd.read_csv(r\"C:\\Users\\Ramlla\\Desktop\\Solar farm analysis\\data\\sierraleone-bumbuna.csv\")"
   ]
  },
  {
   "cell_type": "code",
   "execution_count": 6,
   "id": "f475b023",
   "metadata": {
    "collapsed": true
   },
   "outputs": [
    {
     "name": "stdout",
     "output_type": "stream",
     "text": [
      "          Timestamp  GHI  DNI  DHI  ModA  ModB  Tamb    RH   WS  WSgust  \\\n",
      "0  2021-10-25 00:01 -1.3  0.0  0.0   0.0   0.0  24.8  94.5  0.9     1.1   \n",
      "1  2021-10-25 00:02 -1.3  0.0  0.0   0.0   0.0  24.8  94.4  1.1     1.6   \n",
      "2  2021-10-25 00:03 -1.3  0.0  0.0   0.0   0.0  24.8  94.4  1.2     1.4   \n",
      "3  2021-10-25 00:04 -1.2  0.0  0.0   0.0   0.0  24.8  94.3  1.2     1.6   \n",
      "4  2021-10-25 00:05 -1.2  0.0  0.0   0.0   0.0  24.8  94.0  1.3     1.6   \n",
      "\n",
      "   WSstdev     WD  WDstdev   BP  Cleaning  Precipitation  TModA  TModB  \\\n",
      "0      0.4  227.6      1.1  977         0            0.0   24.7   24.4   \n",
      "1      0.4  229.3      0.7  977         0            0.0   24.7   24.4   \n",
      "2      0.3  228.5      2.9  977         0            0.0   24.7   24.4   \n",
      "3      0.3  229.1      4.6  977         0            0.0   24.7   24.4   \n",
      "4      0.4  227.5      1.6  977         0            0.0   24.7   24.4   \n",
      "\n",
      "   Comments  \n",
      "0       NaN  \n",
      "1       NaN  \n",
      "2       NaN  \n",
      "3       NaN  \n",
      "4       NaN  \n",
      "          Timestamp  GHI  DNI  DHI  ModA  ModB  Tamb    RH   WS  WSgust  \\\n",
      "0  2021-08-09 00:01 -1.2 -0.2 -1.1   0.0   0.0  26.2  93.4  0.0     0.4   \n",
      "1  2021-08-09 00:02 -1.1 -0.2 -1.1   0.0   0.0  26.2  93.6  0.0     0.0   \n",
      "2  2021-08-09 00:03 -1.1 -0.2 -1.1   0.0   0.0  26.2  93.7  0.3     1.1   \n",
      "3  2021-08-09 00:04 -1.1 -0.1 -1.0   0.0   0.0  26.2  93.3  0.2     0.7   \n",
      "4  2021-08-09 00:05 -1.0 -0.1 -1.0   0.0   0.0  26.2  93.3  0.1     0.7   \n",
      "\n",
      "   WSstdev     WD  WDstdev   BP  Cleaning  Precipitation  TModA  TModB  \\\n",
      "0      0.1  122.1      0.0  998         0            0.0   26.3   26.2   \n",
      "1      0.0    0.0      0.0  998         0            0.0   26.3   26.2   \n",
      "2      0.5  124.6      1.5  997         0            0.0   26.4   26.2   \n",
      "3      0.4  120.3      1.3  997         0            0.0   26.4   26.3   \n",
      "4      0.3  113.2      1.0  997         0            0.0   26.4   26.3   \n",
      "\n",
      "   Comments  \n",
      "0       NaN  \n",
      "1       NaN  \n",
      "2       NaN  \n",
      "3       NaN  \n",
      "4       NaN  \n",
      "          Timestamp  GHI  DNI  DHI  ModA  ModB  Tamb    RH   WS  WSgust  \\\n",
      "0  2021-10-30 00:01 -0.7 -0.1 -0.8   0.0   0.0  21.9  99.1  0.0     0.0   \n",
      "1  2021-10-30 00:02 -0.7 -0.1 -0.8   0.0   0.0  21.9  99.2  0.0     0.0   \n",
      "2  2021-10-30 00:03 -0.7 -0.1 -0.8   0.0   0.0  21.9  99.2  0.0     0.0   \n",
      "3  2021-10-30 00:04 -0.7  0.0 -0.8   0.0   0.0  21.9  99.3  0.0     0.0   \n",
      "4  2021-10-30 00:05 -0.7 -0.1 -0.8   0.0   0.0  21.9  99.3  0.0     0.0   \n",
      "\n",
      "   WSstdev   WD  WDstdev    BP  Cleaning  Precipitation  TModA  TModB  \\\n",
      "0      0.0  0.0      0.0  1002         0            0.0   22.3   22.6   \n",
      "1      0.0  0.0      0.0  1002         0            0.0   22.3   22.6   \n",
      "2      0.0  0.0      0.0  1002         0            0.0   22.3   22.6   \n",
      "3      0.0  0.0      0.0  1002         0            0.1   22.3   22.6   \n",
      "4      0.0  0.0      0.0  1002         0            0.0   22.3   22.6   \n",
      "\n",
      "   Comments  \n",
      "0       NaN  \n",
      "1       NaN  \n",
      "2       NaN  \n",
      "3       NaN  \n",
      "4       NaN  \n"
     ]
    }
   ],
   "source": [
    "#checking if its loaded appropriatley\n",
    "\n",
    "print(togo_df.head())\n",
    "print(benin_df.head())\n",
    "print(sierra_df.head())"
   ]
  },
  {
   "cell_type": "code",
   "execution_count": 7,
   "id": "682b4433",
   "metadata": {
    "collapsed": true
   },
   "outputs": [
    {
     "name": "stdout",
     "output_type": "stream",
     "text": [
      "Timestamp             0\n",
      "GHI                   0\n",
      "DNI                   0\n",
      "DHI                   0\n",
      "ModA                  0\n",
      "ModB                  0\n",
      "Tamb                  0\n",
      "RH                    0\n",
      "WS                    0\n",
      "WSgust                0\n",
      "WSstdev               0\n",
      "WD                    0\n",
      "WDstdev               0\n",
      "BP                    0\n",
      "Cleaning              0\n",
      "Precipitation         0\n",
      "TModA                 0\n",
      "TModB                 0\n",
      "Comments         525600\n",
      "dtype: int64\n",
      "Timestamp             0\n",
      "GHI                   0\n",
      "DNI                   0\n",
      "DHI                   0\n",
      "ModA                  0\n",
      "ModB                  0\n",
      "Tamb                  0\n",
      "RH                    0\n",
      "WS                    0\n",
      "WSgust                0\n",
      "WSstdev               0\n",
      "WD                    0\n",
      "WDstdev               0\n",
      "BP                    0\n",
      "Cleaning              0\n",
      "Precipitation         0\n",
      "TModA                 0\n",
      "TModB                 0\n",
      "Comments         525600\n",
      "dtype: int64\n"
     ]
    },
    {
     "ename": "NameError",
     "evalue": "name 'sierra_leone_df' is not defined",
     "output_type": "error",
     "traceback": [
      "\u001b[1;31m---------------------------------------------------------------------------\u001b[0m",
      "\u001b[1;31mNameError\u001b[0m                                 Traceback (most recent call last)",
      "\u001b[1;32m~\\AppData\\Local\\Temp\\ipykernel_1428\\1753017827.py\u001b[0m in \u001b[0;36m<module>\u001b[1;34m\u001b[0m\n\u001b[0;32m      1\u001b[0m \u001b[0mprint\u001b[0m\u001b[1;33m(\u001b[0m\u001b[0mtogo_df\u001b[0m\u001b[1;33m.\u001b[0m\u001b[0misnull\u001b[0m\u001b[1;33m(\u001b[0m\u001b[1;33m)\u001b[0m\u001b[1;33m.\u001b[0m\u001b[0msum\u001b[0m\u001b[1;33m(\u001b[0m\u001b[1;33m)\u001b[0m\u001b[1;33m)\u001b[0m\u001b[1;33m\u001b[0m\u001b[1;33m\u001b[0m\u001b[0m\n\u001b[0;32m      2\u001b[0m \u001b[0mprint\u001b[0m\u001b[1;33m(\u001b[0m\u001b[0mbenin_df\u001b[0m\u001b[1;33m.\u001b[0m\u001b[0misnull\u001b[0m\u001b[1;33m(\u001b[0m\u001b[1;33m)\u001b[0m\u001b[1;33m.\u001b[0m\u001b[0msum\u001b[0m\u001b[1;33m(\u001b[0m\u001b[1;33m)\u001b[0m\u001b[1;33m)\u001b[0m\u001b[1;33m\u001b[0m\u001b[1;33m\u001b[0m\u001b[0m\n\u001b[1;32m----> 3\u001b[1;33m \u001b[0mprint\u001b[0m\u001b[1;33m(\u001b[0m\u001b[0msierra_leone_df\u001b[0m\u001b[1;33m.\u001b[0m\u001b[0misnull\u001b[0m\u001b[1;33m(\u001b[0m\u001b[1;33m)\u001b[0m\u001b[1;33m.\u001b[0m\u001b[0msum\u001b[0m\u001b[1;33m(\u001b[0m\u001b[1;33m)\u001b[0m\u001b[1;33m)\u001b[0m\u001b[1;33m\u001b[0m\u001b[1;33m\u001b[0m\u001b[0m\n\u001b[0m",
      "\u001b[1;31mNameError\u001b[0m: name 'sierra_leone_df' is not defined"
     ]
    }
   ],
   "source": [
    "#checking for the completness of the data\n",
    "print(togo_df.isnull().sum())\n",
    "print(benin_df.isnull().sum())\n",
    "print(sierra_leone_df.isnull().sum())"
   ]
  },
  {
   "cell_type": "code",
   "execution_count": 9,
   "id": "eafe19c0",
   "metadata": {},
   "outputs": [],
   "source": [
    "# Add the 'Region' column to each dataset\n",
    "togo_df['Region'] = 'Togo'\n",
    "benin_df['Region'] = 'Benin'\n",
    "sierra_df['Region'] = 'Sierra Leone'"
   ]
  },
  {
   "cell_type": "markdown",
   "id": "f43d601f",
   "metadata": {},
   "source": [
    "## Merging the datas for further analysis"
   ]
  },
  {
   "cell_type": "code",
   "execution_count": 10,
   "id": "67c391d5",
   "metadata": {},
   "outputs": [],
   "source": [
    "#combine the 3 data set into 1 dataframe\n",
    "\n",
    "combined_df = pd.concat([togo_df, benin_df, sierra_df], ignore_index=True)"
   ]
  },
  {
   "cell_type": "code",
   "execution_count": 11,
   "id": "6cce77bb",
   "metadata": {},
   "outputs": [],
   "source": [
    "#converting it to datetime format\n",
    "\n",
    "combined_df['Timestamp'] = pd.to_datetime(combined_df['Timestamp'])"
   ]
  },
  {
   "cell_type": "code",
   "execution_count": 4,
   "id": "87726105",
   "metadata": {},
   "outputs": [
    {
     "ename": "NameError",
     "evalue": "name 'combined_df' is not defined",
     "output_type": "error",
     "traceback": [
      "\u001b[1;31m---------------------------------------------------------------------------\u001b[0m",
      "\u001b[1;31mNameError\u001b[0m                                 Traceback (most recent call last)",
      "\u001b[1;32m~\\AppData\\Local\\Temp\\ipykernel_10416\\340802780.py\u001b[0m in \u001b[0;36m<module>\u001b[1;34m\u001b[0m\n\u001b[0;32m      1\u001b[0m \u001b[1;31m#saving the new combined file\u001b[0m\u001b[1;33m\u001b[0m\u001b[1;33m\u001b[0m\u001b[0m\n\u001b[1;32m----> 2\u001b[1;33m \u001b[0mcombined_df\u001b[0m\u001b[1;33m.\u001b[0m\u001b[0mto_csv\u001b[0m\u001b[1;33m(\u001b[0m\u001b[1;34mr\"C:\\Users\\Ramlla\\Desktop\\cleaned_combined_data.csv\"\u001b[0m\u001b[1;33m,\u001b[0m \u001b[0mindex\u001b[0m\u001b[1;33m=\u001b[0m\u001b[1;32mFalse\u001b[0m\u001b[1;33m)\u001b[0m\u001b[1;33m\u001b[0m\u001b[1;33m\u001b[0m\u001b[0m\n\u001b[0m",
      "\u001b[1;31mNameError\u001b[0m: name 'combined_df' is not defined"
     ]
    }
   ],
   "source": [
    "#saving the new combined file\n",
    "combined_df.to_csv(r\"C:\\Users\\Ramlla\\Desktop\\cleaned_combined_data.csv\", index=False)"
   ]
  },
  {
   "cell_type": "code",
   "execution_count": 14,
   "id": "7ad1e83c",
   "metadata": {},
   "outputs": [],
   "source": [
    "#removing the comment column\n",
    "combined_df.drop(columns=['Comments'], inplace=True)"
   ]
  },
  {
   "cell_type": "code",
   "execution_count": 15,
   "id": "74d0f52b",
   "metadata": {
    "collapsed": true
   },
   "outputs": [
    {
     "name": "stdout",
     "output_type": "stream",
     "text": [
      "Index(['Timestamp', 'GHI', 'DNI', 'DHI', 'ModA', 'ModB', 'Tamb', 'RH', 'WS',\n",
      "       'WSgust', 'WSstdev', 'WD', 'WDstdev', 'BP', 'Cleaning', 'Precipitation',\n",
      "       'TModA', 'TModB', 'Region'],\n",
      "      dtype='object')\n"
     ]
    }
   ],
   "source": [
    "#checking if its removed \n",
    "print(combined_df.columns)"
   ]
  },
  {
   "cell_type": "markdown",
   "id": "241c4ebf",
   "metadata": {},
   "source": [
    "# Statistical Summary"
   ]
  },
  {
   "cell_type": "code",
   "execution_count": 16,
   "id": "ef7c0bcd",
   "metadata": {
    "collapsed": true
   },
   "outputs": [
    {
     "name": "stderr",
     "output_type": "stream",
     "text": [
      "C:\\Users\\Ramlla\\AppData\\Local\\Temp\\ipykernel_1428\\4084465957.py:5: FutureWarning: DataFrame.mean and DataFrame.median with numeric_only=None will include datetime64 and datetime64tz columns in a future version.\n",
      "  median_values = combined_df.median()\n",
      "C:\\Users\\Ramlla\\AppData\\Local\\Temp\\ipykernel_1428\\4084465957.py:5: FutureWarning: Dropping of nuisance columns in DataFrame reductions (with 'numeric_only=None') is deprecated; in a future version this will raise TypeError.  Select only valid columns before calling the reduction.\n",
      "  median_values = combined_df.median()\n"
     ]
    },
    {
     "name": "stdout",
     "output_type": "stream",
     "text": [
      "                 GHI           DNI           DHI          ModA          ModB  \\\n",
      "count   1.576800e+06  1.576800e+06  1.576800e+06  1.576800e+06  1.576800e+06   \n",
      "mean    2.243573e+02  1.449408e+02  1.151746e+02  2.231257e+02  2.155223e+02   \n",
      "std     3.181073e+02  2.453781e+02  1.580602e+02  3.154732e+02  3.049439e+02   \n",
      "min    -1.950000e+01 -7.800000e+00 -1.790000e+01  0.000000e+00  0.000000e+00   \n",
      "25%    -2.200000e+00 -2.000000e-01 -1.400000e+00  0.000000e+00  0.000000e+00   \n",
      "50%     1.200000e+00  0.000000e+00  1.400000e+00  4.100000e+00  4.000000e+00   \n",
      "75%     4.244000e+02  2.270000e+02  2.190000e+02  4.111000e+02  3.973000e+02   \n",
      "max     1.499000e+03  1.004500e+03  8.920000e+02  1.507000e+03  1.473000e+03   \n",
      "median  1.200000e+00  0.000000e+00  1.400000e+00  4.100000e+00  4.000000e+00   \n",
      "\n",
      "                Tamb            RH            WS        WSgust       WSstdev  \\\n",
      "count   1.576800e+06  1.576800e+06  1.576800e+06  1.576800e+06  1.576800e+06   \n",
      "mean    2.741696e+01  6.298333e+01  1.878440e+00  2.576763e+00  4.649840e-01   \n",
      "std     5.131024e+00  2.854366e+01  1.536357e+00  1.961275e+00  2.904002e-01   \n",
      "min     1.100000e+01  2.100000e+00  0.000000e+00  0.000000e+00  0.000000e+00   \n",
      "25%     2.370000e+01  3.860000e+01  6.000000e-01  1.100000e+00  4.000000e-01   \n",
      "50%     2.680000e+01  6.900000e+01  1.800000e+00  2.400000e+00  5.000000e-01   \n",
      "75%     3.100000e+01  8.860000e+01  2.800000e+00  3.600000e+00  6.000000e-01   \n",
      "max     4.380000e+01  1.000000e+02  1.950000e+01  2.660000e+01  4.700000e+00   \n",
      "median  2.680000e+01  6.900000e+01  1.800000e+00  2.400000e+00  5.000000e-01   \n",
      "\n",
      "                  WD       WDstdev            BP      Cleaning  Precipitation  \\\n",
      "count   1.576800e+06  1.576800e+06  1.576800e+06  1.576800e+06   1.576800e+06   \n",
      "mean    1.494072e+02  8.771398e+00  9.899963e+02  8.079655e-04   2.697615e-03   \n",
      "std     1.039399e+02  6.790689e+00  1.046797e+01  2.841326e-02   3.803610e-02   \n",
      "min     0.000000e+00  0.000000e+00  9.680000e+02  0.000000e+00   0.000000e+00   \n",
      "25%     5.330000e+01  2.900000e+00  9.770000e+02  0.000000e+00   0.000000e+00   \n",
      "50%     1.803000e+02  9.000000e+00  9.940000e+02  0.000000e+00   0.000000e+00   \n",
      "75%     2.342000e+02  1.290000e+01  9.990000e+02  0.000000e+00   0.000000e+00   \n",
      "max     3.600000e+02  9.940000e+01  1.006000e+03  1.000000e+00   2.500000e+00   \n",
      "median  1.803000e+02  9.000000e+00  9.940000e+02  0.000000e+00   0.000000e+00   \n",
      "\n",
      "               TModA         TModB  \n",
      "count   1.576800e+06  1.576800e+06  \n",
      "mean    3.339823e+01  3.286939e+01  \n",
      "std     1.290953e+01  1.238889e+01  \n",
      "min     9.000000e+00  8.100000e+00  \n",
      "25%     2.370000e+01  2.370000e+01  \n",
      "50%     2.830000e+01  2.800000e+01  \n",
      "75%     4.260000e+01  4.190000e+01  \n",
      "max     8.100000e+01  9.460000e+01  \n",
      "median  2.830000e+01  2.800000e+01  \n"
     ]
    }
   ],
   "source": [
    "# Calculate summary statistics\n",
    "summary_stats = combined_df.describe()\n",
    "\n",
    "# Calculate median separately, as it's not included in describe()\n",
    "median_values = combined_df.median()\n",
    "\n",
    "# Adding the median to the summary statistics DataFrame\n",
    "summary_stats.loc['median'] = median_values\n",
    "\n",
    "# Display the summary statistics\n",
    "print(summary_stats)"
   ]
  },
  {
   "cell_type": "code",
   "execution_count": null,
   "id": "c4f78508",
   "metadata": {},
   "outputs": [],
   "source": []
  }
 ],
 "metadata": {
  "kernelspec": {
   "display_name": "Python 3 (ipykernel)",
   "language": "python",
   "name": "python3"
  },
  "language_info": {
   "codemirror_mode": {
    "name": "ipython",
    "version": 3
   },
   "file_extension": ".py",
   "mimetype": "text/x-python",
   "name": "python",
   "nbconvert_exporter": "python",
   "pygments_lexer": "ipython3",
   "version": "3.9.13"
  }
 },
 "nbformat": 4,
 "nbformat_minor": 5
}
